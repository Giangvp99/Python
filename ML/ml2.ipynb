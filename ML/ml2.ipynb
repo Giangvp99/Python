{
 "cells": [
  {
   "cell_type": "code",
   "execution_count": 1,
   "source": [
    "import numpy as np\n",
    "import matplotlib.pyplot as plt\n",
    "from sklearn import neighbors, datasets"
   ],
   "outputs": [],
   "metadata": {}
  },
  {
   "cell_type": "code",
   "execution_count": 2,
   "source": [
    "iris=datasets.load_iris()\n",
    "iris_X=iris.data\n",
    "iris_y=iris.target\n",
    "X0=iris_X[iris_y==0,:]\n",
    "X1=iris_X[iris_y==1,:]\n",
    "X2=iris_X[iris_y==2,:]"
   ],
   "outputs": [],
   "metadata": {}
  },
  {
   "cell_type": "code",
   "execution_count": 20,
   "source": [
    "from sklearn.model_selection import train_test_split\n",
    "X_train,X_test,y_train,y_test = train_test_split(iris_X,iris_y,test_size=50)"
   ],
   "outputs": [],
   "metadata": {}
  },
  {
   "cell_type": "code",
   "execution_count": 21,
   "source": [
    "clf=neighbors.KNeighborsClassifier(n_neighbors=10,p=2,weights=\"distance\")\n",
    "clf.fit(X_train,y_train)\n",
    "y_pred = clf.predict(X_test)\n",
    "print(y_pred[20:40])\n",
    "print(y_test[20:40])"
   ],
   "outputs": [
    {
     "output_type": "stream",
     "name": "stdout",
     "text": [
      "[1 1 1 2 1 2 1 0 1 0 1 0 1 0 1 0 2 0 0 0]\n",
      "[1 1 1 2 1 2 2 0 1 0 1 0 1 0 1 0 2 0 0 0]\n"
     ]
    }
   ],
   "metadata": {}
  },
  {
   "cell_type": "code",
   "execution_count": 22,
   "source": [
    "from sklearn.metrics import accuracy_score\n",
    "print(accuracy_score(y_test,y_pred))"
   ],
   "outputs": [
    {
     "output_type": "stream",
     "name": "stdout",
     "text": [
      "0.98\n"
     ]
    }
   ],
   "metadata": {}
  },
  {
   "cell_type": "code",
   "execution_count": 3,
   "source": [
    "import numpy as np \n",
    "from mnist import MNIST # require `pip install python-mnist`\n",
    "# https://pypi.python.org/pypi/python-mnist/\n",
    "\n",
    "import matplotlib.pyplot as plt\n",
    "from sklearn import neighbors\n",
    "from sklearn.metrics import accuracy_score\n",
    "import time\n",
    "\n",
    "# you need to download the MNIST dataset first\n",
    "# at: http://yann.lecun.com/exdb/mnist/\n",
    "mndata = MNIST('../ML/MNIST/') # path to your MNIST folder \n",
    "mndata.load_testing()\n",
    "mndata.load_training()\n",
    "X_test = mndata.test_images\n",
    "X_train = mndata.train_images\n",
    "y_test = np.asarray(mndata.test_labels)\n",
    "y_train = np.asarray(mndata.train_labels)\n",
    "\n",
    "\n",
    "start_time = time.time()\n",
    "clf = neighbors.KNeighborsClassifier(n_neighbors = 1, p = 2)\n",
    "clf.fit(X_train, y_train)\n",
    "y_pred = clf.predict(X_test)\n",
    "end_time = time.time()\n",
    "print(\"Accuracy of 1NN for MNIST: %.2f %%\" %(100*accuracy_score(y_test, y_pred)))\n",
    "print(\"Running time: %.2f (s)\" % (end_time - start_time))"
   ],
   "outputs": [
    {
     "output_type": "stream",
     "name": "stdout",
     "text": [
      "Accuracy of 1NN for MNIST: 96.91 %\n",
      "Running time: 22.16 (s)\n"
     ]
    }
   ],
   "metadata": {}
  },
  {
   "cell_type": "code",
   "execution_count": null,
   "source": [],
   "outputs": [],
   "metadata": {}
  }
 ],
 "metadata": {
  "orig_nbformat": 4,
  "language_info": {
   "name": "python",
   "version": "3.9.6",
   "mimetype": "text/x-python",
   "codemirror_mode": {
    "name": "ipython",
    "version": 3
   },
   "pygments_lexer": "ipython3",
   "nbconvert_exporter": "python",
   "file_extension": ".py"
  },
  "kernelspec": {
   "name": "python3",
   "display_name": "Python 3.9.6 64-bit ('env': venv)"
  },
  "interpreter": {
   "hash": "70fc6b7fe0f4d3c9f9ad075964ce5e81c9217cd44d4a059e83db5de640b8b5b5"
  }
 },
 "nbformat": 4,
 "nbformat_minor": 2
}