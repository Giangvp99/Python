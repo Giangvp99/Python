{
 "cells": [
  {
   "cell_type": "code",
   "execution_count": 5,
   "source": [
    "from __future__ import division, print_function,unicode_literals\n",
    "import numpy as np\n",
    "import matplotlib\n",
    "import matplotlib.pyplot as plt\n",
    "np.random.seed(2)"
   ],
   "outputs": [],
   "metadata": {}
  },
  {
   "cell_type": "code",
   "execution_count": null,
   "source": [
    "X = np.random.rand(1000,1)\n",
    "y=4+3*X+.2*np.random.randn(1000,1)\n",
    "\n",
    "one=np.ones((X.shape[0],1))\n",
    "Xbar=np.concatenate((one,X),axis=1)\n",
    "\n",
    "A=np.dot(Xbar.T,Xbar)\n",
    "b=np.dot(Xbar.T,y)\n",
    "w_lr=np.dot(np.linalg.pinv(A),b)\n",
    "print(w_lr.T)\n",
    "\n",
    "w=w_lr\n",
    "w_0=w[0][0]\n",
    "w_1=w[1][0]\n",
    "x0=np.linspace(0,1,2,endpoint=True)\n",
    "y0=w_0+w_1*x0\n",
    "\n",
    "plt.plot(X.T,y.T,'b.')\n",
    "plt.plot(x0,y0,'y',linewidth=2)\n",
    "plt.axis([0,1,0,10])\n",
    "plt.show()"
   ],
   "outputs": [],
   "metadata": {}
  }
 ],
 "metadata": {
  "orig_nbformat": 4,
  "language_info": {
   "name": "python",
   "version": "3.9.6",
   "mimetype": "text/x-python",
   "codemirror_mode": {
    "name": "ipython",
    "version": 3
   },
   "pygments_lexer": "ipython3",
   "nbconvert_exporter": "python",
   "file_extension": ".py"
  },
  "kernelspec": {
   "name": "python3",
   "display_name": "Python 3.9.6 64-bit ('env': venv)"
  },
  "interpreter": {
   "hash": "70fc6b7fe0f4d3c9f9ad075964ce5e81c9217cd44d4a059e83db5de640b8b5b5"
  }
 },
 "nbformat": 4,
 "nbformat_minor": 2
}